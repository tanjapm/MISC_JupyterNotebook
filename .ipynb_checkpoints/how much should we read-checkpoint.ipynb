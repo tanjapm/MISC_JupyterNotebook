{
 "cells": [
  {
   "cell_type": "markdown",
   "metadata": {},
   "source": [
    "un article cité = un article lu en détails\n",
    "\n",
    "hmm... on a commence notre thése en mai 2016, donc:"
   ]
  },
  {
   "cell_type": "code",
   "execution_count": 2,
   "metadata": {},
   "outputs": [
    {
     "name": "stdout",
     "output_type": "stream",
     "text": [
      "full number of days passed since start of thesis: 568\n",
      "days since start without weekend: 405\n"
     ]
    }
   ],
   "source": [
    "import numpy as np\n",
    "from datetime import date\n",
    "\n",
    "fromdate = date(2016, 5, 1)\n",
    "todate = date(2017, 11, 20)\n",
    "delta = todate - fromdate\n",
    "weekdays = np.busday_count( fromdate, todate )\n",
    "\n",
    "print('full number of days passed since start of thesis:',delta.days)\n",
    "print('days since start without weekend:', weekdays)"
   ]
  },
  {
   "cell_type": "markdown",
   "metadata": {},
   "source": [
    "now let's remove holidays, and say we work 8hours a day (in fact it is always more)"
   ]
  },
  {
   "cell_type": "code",
   "execution_count": 4,
   "metadata": {},
   "outputs": [
    {
     "name": "stdout",
     "output_type": "stream",
     "text": [
      "available hours, very optimistic: 3040\n"
     ]
    }
   ],
   "source": [
    "vacances = 5 # weeks\n",
    "\n",
    "holidays = vacances * 5 # jour\n",
    "days = weekdays - holidays\n",
    "\n",
    "hours = days* 8\n",
    "print('available hours, very optimistic:',hours)\n"
   ]
  },
  {
   "cell_type": "markdown",
   "metadata": {},
   "source": [
    " a good articles takes (me) at least 4 hours to read (with additional literature survey etc), a book several days, or weeks. in average let us say two days per aricle, so 16 h"
   ]
  },
  {
   "cell_type": "code",
   "execution_count": 5,
   "metadata": {},
   "outputs": [
    {
     "name": "stdout",
     "output_type": "stream",
     "text": [
      "unrealistic number of articles that could have been read: 190.0\n"
     ]
    }
   ],
   "source": [
    "articles = hours /16\n",
    "print('unrealistic number of articles that could have been read:',articles)"
   ]
  },
  {
   "cell_type": "markdown",
   "metadata": {},
   "source": [
    "no let's consider that we also have to prepare stuff for classes, meetings, experiments etc, that take at least 40% of our time, that leaves us with:"
   ]
  },
  {
   "cell_type": "code",
   "execution_count": 6,
   "metadata": {},
   "outputs": [
    {
     "name": "stdout",
     "output_type": "stream",
     "text": [
      "more realistic number of articles that could have been read up to now: 114.0\n"
     ]
    }
   ],
   "source": [
    "no_art = articles * 0.6\n",
    "print('more realistic number of articles that could have been read up to now:',no_art)"
   ]
  },
  {
   "cell_type": "code",
   "execution_count": 7,
   "metadata": {},
   "outputs": [
    {
     "data": {
      "text/plain": [
       "76.0"
      ]
     },
     "execution_count": 7,
     "metadata": {},
     "output_type": "execute_result"
    }
   ],
   "source": [
    "no_art/1.5"
   ]
  },
  {
   "cell_type": "markdown",
   "metadata": {},
   "source": [
    "that is about 76 articles a year and we are expected to have way more citations than that. what am I missing?"
   ]
  }
 ],
 "metadata": {
  "kernelspec": {
   "display_name": "Python 3",
   "language": "python",
   "name": "python3"
  },
  "language_info": {
   "codemirror_mode": {
    "name": "ipython",
    "version": 3
   },
   "file_extension": ".py",
   "mimetype": "text/x-python",
   "name": "python",
   "nbconvert_exporter": "python",
   "pygments_lexer": "ipython3",
   "version": "3.6.3"
  }
 },
 "nbformat": 4,
 "nbformat_minor": 2
}
