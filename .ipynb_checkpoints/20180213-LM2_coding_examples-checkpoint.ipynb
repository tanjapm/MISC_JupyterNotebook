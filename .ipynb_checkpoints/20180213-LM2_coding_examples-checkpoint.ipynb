{
 "cells": [
  {
   "cell_type": "markdown",
   "metadata": {
    "slideshow": {
     "slide_type": "skip"
    }
   },
   "source": [
    "## <center> Sample Code for our little LM2 presentation"
   ]
  },
  {
   "cell_type": "markdown",
   "metadata": {
    "slideshow": {
     "slide_type": "slide"
    }
   },
   "source": [
    "### Code example 1\n",
    "** Accessing date and time via built-in functions **\n",
    "\n",
    "This is actually quite useful for a lot of things, e.g. adding an automatic header to your datafiles, or triggering other functions as a function of time."
   ]
  },
  {
   "cell_type": "code",
   "execution_count": 2,
   "metadata": {
    "slideshow": {
     "slide_type": "subslide"
    }
   },
   "outputs": [
    {
     "name": "stdout",
     "output_type": "stream",
     "text": [
      "Today is 02.13.2018 and just 14 days ago it was 01.30.2018 \n",
      "\n",
      "REMINDER: our next LM2 meeting will be on 02/27/18 \n",
      "\n",
      "today is a good day because it is a Tuesday\n",
      "Hey what month is it? Time flies, we have  February  already!\n"
     ]
    }
   ],
   "source": [
    "from datetime import datetime, timedelta\n",
    "now = datetime.now()\n",
    "daysinthepast = 14\n",
    "then = now - timedelta(days=daysinthepast)\n",
    "nextLM2 = now + timedelta(days=14)\n",
    "\n",
    "# console output\n",
    "\n",
    "print(('Today is %s and just %i days ago it was %s \\n'\n",
    "      % (now.strftime('%m.%d.%Y'), daysinthepast, then.strftime('%m.%d.%Y'))))\n",
    "print(('REMINDER: our next LM2 meeting will be on %s \\n'\n",
    "      % nextLM2.strftime('%x')))\n",
    "print('today is a good day because it is a %s' % now.strftime('%A'))\n",
    "print(('Hey what month is it? Time flies, we have  %s  already!'\n",
    "      % now.strftime('%B')))"
   ]
  },
  {
   "cell_type": "markdown",
   "metadata": {
    "slideshow": {
     "slide_type": "slide"
    }
   },
   "source": [
    "### Code example 2\n",
    "** Loops loops loops **\n",
    "\n",
    "A majority of tasks requires loops, isn't that a bit the heart of coding??? Let's get some Fibonacci numbers, this is a number sequence where the nth element is the sum of the two preceeding elements. We apply the defintion that the first two elements are 0 and 1. We now only need to decide how many elements we want to get as output."
   ]
  },
  {
   "cell_type": "code",
   "execution_count": 46,
   "metadata": {
    "slideshow": {
     "slide_type": "subslide"
    }
   },
   "outputs": [
    {
     "name": "stdout",
     "output_type": "stream",
     "text": [
      "How many Fibonacci numbers would you like?: 12\n",
      "This is your Fibonacci sequence containing 12 elements:\n",
      "[0, 1, 1, 2, 3, 5, 8, 13, 21, 34, 55, 89, 144]\n"
     ]
    }
   ],
   "source": [
    "numbers = int(input('How many Fibonacci numbers would you like?: '))\n",
    "\n",
    "fibonacci= [0,1]\n",
    "\n",
    "if numbers >3:\n",
    "    for element in range(2,numbers+1):\n",
    "        \n",
    "        new_element = fibonacci[element-1] + fibonacci[element-2]\n",
    "        fibonacci.append(new_element)\n",
    "\n",
    "print('This is your Fibonacci sequence containing %i elements:' %numbers)\n",
    "print(fibonacci)\n",
    "\n"
   ]
  },
  {
   "cell_type": "markdown",
   "metadata": {
    "slideshow": {
     "slide_type": "slide"
    }
   },
   "source": [
    "### Code example 3\n",
    "** Conditionals: if, else **\n",
    "\n",
    "This is also quite useful for a lot of things. Since the heart is already taken, maybe the lungs of programming?\n",
    "I chose a grade converter (inspired by codecademy)."
   ]
  },
  {
   "cell_type": "code",
   "execution_count": 45,
   "metadata": {
    "slideshow": {
     "slide_type": "subslide"
    }
   },
   "outputs": [
    {
     "name": "stdout",
     "output_type": "stream",
     "text": [
      "What is your score:65\n",
      "Your score equals grade: D \n"
     ]
    }
   ],
   "source": [
    "yourpoints = int(input('What is your score:'))\n",
    "\n",
    "def grade_converter(grade):\n",
    "    if yourpoints >= 90:\n",
    "        return \"A\"\n",
    "    elif (yourpoints >=80) and (yourpoints <90):\n",
    "        return \"B\"\n",
    "    elif (yourpoints >=70) and (yourpoints <80):\n",
    "        return \"C\"\n",
    "    elif (yourpoints >=60) and (yourpoints <70):\n",
    "        return \"D\"\n",
    "    else:\n",
    "        return \"F\"\n",
    "    \n",
    "print('Your score equals grade: %s '%grade_converter(yourpoints))"
   ]
  }
 ],
 "metadata": {
  "kernelspec": {
   "display_name": "Python 3",
   "language": "python",
   "name": "python3"
  },
  "language_info": {
   "codemirror_mode": {
    "name": "ipython",
    "version": 3
   },
   "file_extension": ".py",
   "mimetype": "text/x-python",
   "name": "python",
   "nbconvert_exporter": "python",
   "pygments_lexer": "ipython3",
   "version": "3.6.3"
  }
 },
 "nbformat": 4,
 "nbformat_minor": 2
}
