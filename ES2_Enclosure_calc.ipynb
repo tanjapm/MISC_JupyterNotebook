{
 "cells": [
  {
   "cell_type": "code",
   "execution_count": 10,
   "metadata": {},
   "outputs": [],
   "source": [
    "%matplotlib inline\n",
    "import cantera as ct \n",
    "import numpy as np\n",
    "import math\n",
    "import matplotlib.pyplot as plt"
   ]
  },
  {
   "cell_type": "markdown",
   "metadata": {},
   "source": [
    "2018-11-07; Tanja Pelzmann\n",
    "\n",
    "## ENV708-WP1: ES2 -- enclosure tensile testing machine\n",
    "\n",
    "The ventilation system installed in the LM2 lab has the following characteristics:\n",
    "\n",
    "* maximum temperature: $70 \\,^{\\circ}\\text{C}$\n",
    "* duct speed= 555 ft/min\n",
    "* diameter = 6 in\n",
    "\n",
    "\\begin{equation}\n",
    "pV = NRT \\rightarrow \\qquad pV = \\frac{m}{M}RT \\rightarrow p\\dot{V} = \\dot{m}\\frac{RT}{M}\n",
    "\\end{equation}\n",
    "\n",
    "\\begin{equation}\n",
    "\\dot{Q} = \\dot{m} * c_p * \\Delta T \\rightarrow \\qquad \\Delta T = \\dot{Q} / (c_p* \\dot{m})\n",
    "\\end{equation}\n"
   ]
  },
  {
   "cell_type": "code",
   "execution_count": 43,
   "metadata": {},
   "outputs": [
    {
     "name": "stdout",
     "output_type": "stream",
     "text": [
      "v_duct: 2.82 m/s\n",
      "air flow: 0.05 m3/s\n",
      "temperature entering air duct is 108.37 degC for a burner power of: 5 kW\n",
      "outgoing temperature is TOO HIGH!\n"
     ]
    }
   ],
   "source": [
    "Tmax = 70 #degC\n",
    "\n",
    "# metric units\n",
    "\n",
    "v_imp = 555 #ft/min\n",
    "v_duct = v_imp*(12*25.4e-3) / 60 #m/s\n",
    "print('v_duct: %.2f m/s' %v_duct)\n",
    "\n",
    "d = 6*25.4e-3 #m\n",
    "A = d**2/4 * math.pi\n",
    "\n",
    "V_dot = A*v_duct\n",
    "print('air flow: %.2f m3/s' %V_dot)\n",
    "\n",
    "\n",
    "### thermal estimation\n",
    "M_air = 28.84 #g/mol (79% N2 + 21%O2)\n",
    "R = 8.314 #J/mol*K\n",
    "T0 = 298 #K\n",
    "p = 100 #kPa  -- kPa and g/mol!! \n",
    "\n",
    "m_dot = p*V_dot / (R*T0 / M_air) #kg/s\n",
    "cp_air = 1.00 #kJ/kg.K\n",
    "Q_dot = 5 #kW, burner power (W = J/s)\n",
    "\n",
    "deltaT = Q_dot/(m_dot * cp_air) #K\n",
    "\n",
    "T1 = T0-273.15 + deltaT\n",
    "print('temperature entering air duct is %.2f degC for a burner power of: %d kW' %(T1,Q_dot))\n",
    "\n",
    "if T1<Tmax:\n",
    "    print('outgoing air temperature acceptable')\n",
    "else:\n",
    "    print('outgoing temperature is TOO HIGH!')\n",
    "    \n"
   ]
  },
  {
   "cell_type": "code",
   "execution_count": 41,
   "metadata": {},
   "outputs": [
    {
     "name": "stdout",
     "output_type": "stream",
     "text": [
      "velocity in cfm: 108.97\n"
     ]
    }
   ],
   "source": [
    "# imperial\n",
    "\n",
    "Aimp = (6/12)**2/4 * math.pi\n",
    "Vcfm = v_imp * Aimp\n",
    "print('velocity in cfm: %.2f' %Vcfm)"
   ]
  },
  {
   "cell_type": "code",
   "execution_count": null,
   "metadata": {
    "collapsed": true
   },
   "outputs": [],
   "source": []
  }
 ],
 "metadata": {
  "kernelspec": {
   "display_name": "Python 3",
   "language": "python",
   "name": "python3"
  },
  "language_info": {
   "codemirror_mode": {
    "name": "ipython",
    "version": 3
   },
   "file_extension": ".py",
   "mimetype": "text/x-python",
   "name": "python",
   "nbconvert_exporter": "python",
   "pygments_lexer": "ipython3",
   "version": "3.6.3"
  }
 },
 "nbformat": 4,
 "nbformat_minor": 2
}
