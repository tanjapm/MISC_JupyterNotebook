{
 "cells": [
  {
   "cell_type": "code",
   "execution_count": 35,
   "metadata": {
    "collapsed": true
   },
   "outputs": [],
   "source": [
    "%matplotlib inline\n",
    "import cantera as ct \n",
    "import numpy as np\n",
    "import itertools  #for iterating markers in when plotting in loop\n",
    "import matplotlib.pyplot as plt\n",
    "plt.rcParams['figure.figsize'] = (10.0, 10.0)  #adjust overall figure size\n",
    "\n",
    "#misc\n",
    "from IPython.display import HTML, Markdown, Latex   #hide code cells for enhanced readability\n",
    "#!pip install --upgrade IPython"
   ]
  },
  {
   "cell_type": "markdown",
   "metadata": {},
   "source": [
    "# Calculations for Predoc Proposal"
   ]
  },
  {
   "cell_type": "markdown",
   "metadata": {},
   "source": [
    "## Introduction: power to weight ratio"
   ]
  },
  {
   "cell_type": "markdown",
   "metadata": {},
   "source": [
    "Calculation of power to weight ratio for modern aircraft and wright brother aircraft <br>\n",
    "The power to weight ratio of the wrights flyer (1903) is given as 0.02 hp/lb <br>\n",
    "Dreamliner specs taken from: https://www.flightglobal.com/news/articles/everything-about-the-boeing-787-dreamliner-209212/  <br>"
   ]
  },
  {
   "cell_type": "code",
   "execution_count": 74,
   "metadata": {},
   "outputs": [
    {
     "name": "stdout",
     "output_type": "stream",
     "text": [
      "340769.34 210.16 26.48 0.02\n"
     ]
    }
   ],
   "source": [
    "#convert wrigth flyer to SI units\n",
    "\n",
    "\n",
    "# 1 hp = 745,7 Watts; 1 lb = 0,453592 kg\n",
    "hp = 745.7 #W\n",
    "lb = 0.453592 #kg\n",
    "wright_enginepower = 12 #hp\n",
    "TOweight =745  #== max weight;   empty weight : 605\n",
    "\n",
    "pwr_wright = wright_enginepower/TOweight  #hp/lb\n",
    "pwr_wright_SI = pwr_wright  * (hp/lb)\n",
    "pwr_wright_SI = np.round(pwr_wright_SI,2)\n",
    "pwr_wright_EN = np.round(pwr_wright,2)\n",
    "\n",
    "##### BOEING 787 Dreamliner\n",
    "# Maximum Thrust Capability: \t 285 kN\n",
    "#Normal cruise: \t 902 km/h at 40,000 ft || Max cruise: \t 945 km/h at 40,000 ft\n",
    "#Max Maximum Thrust Capability: \t 285 kN \n",
    "# Maximum takeoff weight: \t 219,540 kg\n",
    "# power = F*v\n",
    "\n",
    "\n",
    "vmax_SI = 945 / 3.6 #m/s\n",
    "thrust_SI = 285 *1e3 #N\n",
    "thrust_EN = thrust_SI / 9.80665 #convert to kp\n",
    "m_B787_SI = 219.540 #kg\n",
    "m_B787_EN = m_B787_SI / lb #lb\n",
    "\n",
    "# 1 PS = 75 kpm/s \n",
    "\n",
    "pwr_B787_SI = np.round((thrust_SI * vmax_SI) / m_B787_SI,2)\n",
    "pwr_B787_EN = np.round((thrust_EN * vmax_SI/75) / m_B787_EN,2)\n",
    "\n",
    "print(pwr_B787_SI, pwr_B787_EN,pwr_wright_SI, pwr_wright_EN)\n",
    "\n",
    "increase1 = pwr_B787_EN/pwr_wright_EN \n",
    "increase2 = pwr_B787_SI/pwr_wright_SI"
   ]
  },
  {
   "cell_type": "code",
   "execution_count": 76,
   "metadata": {},
   "outputs": [
    {
     "name": "stdout",
     "output_type": "stream",
     "text": [
      "1621.47573278\n",
      "1643.96666667\n",
      "increased by a factor 10508 \n",
      "increased by a factor 12868 \n"
     ]
    }
   ],
   "source": [
    "print(pwr_B787_SI/pwr_B787_EN)\n",
    "print(pwr_wright_SI/pwr_wright)\n",
    "print('increased by a factor %d ' %increase1),\n",
    "print('increased by a factor %d ' %increase2)"
   ]
  },
  {
   "cell_type": "markdown",
   "metadata": {},
   "source": [
    "# Section SOTA"
   ]
  },
  {
   "cell_type": "code",
   "execution_count": null,
   "metadata": {
    "collapsed": true
   },
   "outputs": [],
   "source": []
  }
 ],
 "metadata": {
  "kernelspec": {
   "display_name": "Python 3",
   "language": "python",
   "name": "python3"
  },
  "language_info": {
   "codemirror_mode": {
    "name": "ipython",
    "version": 3
   },
   "file_extension": ".py",
   "mimetype": "text/x-python",
   "name": "python",
   "nbconvert_exporter": "python",
   "pygments_lexer": "ipython3",
   "version": "3.6.3"
  }
 },
 "nbformat": 4,
 "nbformat_minor": 2
}
